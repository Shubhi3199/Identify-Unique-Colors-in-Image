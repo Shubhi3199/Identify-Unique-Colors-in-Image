{
  "nbformat": 4,
  "nbformat_minor": 0,
  "metadata": {
    "colab": {
      "name": "Accord_Assignment.ipynb",
      "provenance": [],
      "authorship_tag": "ABX9TyOSQUBLzahzaLVNawUzJjDN",
      "include_colab_link": true
    },
    "kernelspec": {
      "name": "python3",
      "display_name": "Python 3"
    },
    "language_info": {
      "name": "python"
    }
  },
  "cells": [
    {
      "cell_type": "markdown",
      "metadata": {
        "id": "view-in-github",
        "colab_type": "text"
      },
      "source": [
        "<a href=\"https://colab.research.google.com/github/Shubhi3199/Identify-Unique-Colors-in-Image/blob/main/Accord_Assignment.ipynb\" target=\"_parent\"><img src=\"https://colab.research.google.com/assets/colab-badge.svg\" alt=\"Open In Colab\"/></a>"
      ]
    },
    {
      "cell_type": "code",
      "metadata": {
        "colab": {
          "base_uri": "https://localhost:8080/"
        },
        "id": "8eGmUSKJKDNM",
        "outputId": "36b1b1cc-c574-431b-b602-156784cc3226"
      },
      "source": [
        "!pip install webcolors==1.3"
      ],
      "execution_count": 2,
      "outputs": [
        {
          "output_type": "stream",
          "text": [
            "Collecting webcolors==1.3\n",
            "  Downloading https://files.pythonhosted.org/packages/b6/b5/28f04e47e0d0a75db33a09ab357ed37ed2fe8102eec3187e93e09c8ed8a3/webcolors-1.3.tar.gz\n",
            "Building wheels for collected packages: webcolors\n",
            "  Building wheel for webcolors (setup.py) ... \u001b[?25l\u001b[?25hdone\n",
            "  Created wheel for webcolors: filename=webcolors-1.3-cp37-none-any.whl size=13010 sha256=6ef9106ae7640b45cf757e0b17388bc0582a56b2e32136d52c9b333333d83418\n",
            "  Stored in directory: /root/.cache/pip/wheels/f5/5c/6d/fe4a555c7072e9637a6e1bfc40a9e6736a6f567dec50c8c33b\n",
            "Successfully built webcolors\n",
            "Installing collected packages: webcolors\n",
            "Successfully installed webcolors-1.3\n"
          ],
          "name": "stdout"
        }
      ]
    },
    {
      "cell_type": "code",
      "metadata": {
        "id": "oVhEnEl0Akg0"
      },
      "source": [
        "from PIL import Image\n",
        "import numpy as np\n",
        "import pandas as pd\n",
        "from scipy.spatial import KDTree\n",
        "from webcolors import ( css3_hex_to_names, hex_to_rgb,) \n",
        "\n",
        "im = Image.open('/content/drive/MyDrive/Assignement Image fig.1.png') \n",
        "\n",
        "width = np.asarray(im).shape[0]\n",
        "length = np.asarray(im).shape[1]\n",
        "\n",
        "all_colors = list(set(list()))\n",
        "\n",
        "for i in range(length):\n",
        "  for j in range(width):\n",
        "    all_colors.append(im.getpixel((i, j))) # To get RGB values at each pixel of the given image\n",
        "\n",
        "# all_colors\n",
        "# np.asarray(all_colors).shape\n",
        "unique_colors = list(set(all_colors))\n"
      ],
      "execution_count": 17,
      "outputs": []
    },
    {
      "cell_type": "code",
      "metadata": {
        "id": "zJi5XkdNK2JB"
      },
      "source": [
        "\n",
        "def convert_rgb_to_names(rgb_tuple):\n",
        "    \n",
        "    # a dictionary of all the hex and their respective names in css3\n",
        "    css3_db = css3_hex_to_names\n",
        "    names = []\n",
        "    rgb_values = []\n",
        "    for color_hex, color_name in css3_db.items():\n",
        "        names.append(color_name)\n",
        "        rgb_values.append(hex_to_rgb(color_hex))\n",
        "    \n",
        "    kdt_db = KDTree(rgb_values)\n",
        "    distance, index = kdt_db.query(rgb_tuple)\n",
        "    return f'{names[index]}'"
      ],
      "execution_count": 14,
      "outputs": []
    },
    {
      "cell_type": "code",
      "metadata": {
        "colab": {
          "base_uri": "https://localhost:8080/"
        },
        "id": "12_Umih4aKRd",
        "outputId": "f28b5c34-1d82-47da-f29b-0fe5e9dc9778"
      },
      "source": [
        "from google.colab import drive\n",
        "drive.mount('/content/drive')"
      ],
      "execution_count": 4,
      "outputs": [
        {
          "output_type": "stream",
          "text": [
            "Mounted at /content/drive\n"
          ],
          "name": "stdout"
        }
      ]
    },
    {
      "cell_type": "code",
      "metadata": {
        "id": "uCYobfTJK7-9"
      },
      "source": [
        "unique_color_names = []\n",
        "for i in range(len(unique_colors)):\n",
        "  unique_color_names.append(convert_rgb_to_names(unique_colors[i]))"
      ],
      "execution_count": 15,
      "outputs": []
    },
    {
      "cell_type": "code",
      "metadata": {
        "colab": {
          "base_uri": "https://localhost:8080/"
        },
        "id": "ZoTfWWxdIFaV",
        "outputId": "2f9c54f8-d7f7-441a-c453-1465763121d0"
      },
      "source": [
        "im.getpixel((959, 0))"
      ],
      "execution_count": 26,
      "outputs": [
        {
          "output_type": "execute_result",
          "data": {
            "text/plain": [
              "(241, 239, 244)"
            ]
          },
          "metadata": {
            "tags": []
          },
          "execution_count": 26
        }
      ]
    },
    {
      "cell_type": "code",
      "metadata": {
        "colab": {
          "base_uri": "https://localhost:8080/"
        },
        "id": "L90OqR9VRpeR",
        "outputId": "eeaf606d-a2ca-4560-bc43-9a770925f1c6"
      },
      "source": [
        "len(unique_color_names)"
      ],
      "execution_count": 8,
      "outputs": [
        {
          "output_type": "execute_result",
          "data": {
            "text/plain": [
              "9104"
            ]
          },
          "metadata": {
            "tags": []
          },
          "execution_count": 8
        }
      ]
    },
    {
      "cell_type": "code",
      "metadata": {
        "colab": {
          "base_uri": "https://localhost:8080/"
        },
        "id": "6Dxho8RaSlem",
        "outputId": "24a57a7e-6d90-4bac-a292-20b94a4b7e32"
      },
      "source": [
        "final_colors_arr = (np.unique(unique_color_names))\n",
        "len(final_colors_arr)"
      ],
      "execution_count": 18,
      "outputs": [
        {
          "output_type": "execute_result",
          "data": {
            "text/plain": [
              "34"
            ]
          },
          "metadata": {
            "tags": []
          },
          "execution_count": 18
        }
      ]
    },
    {
      "cell_type": "code",
      "metadata": {
        "colab": {
          "base_uri": "https://localhost:8080/"
        },
        "id": "CWLyPUQCSwY1",
        "outputId": "dc41156a-978a-46a4-8e1b-4a8671e490ed"
      },
      "source": [
        "print(final_colors_arr)"
      ],
      "execution_count": 19,
      "outputs": [
        {
          "output_type": "stream",
          "text": [
            "['antiquewhite' 'beige' 'bisque' 'blanchedalmond' 'burlywood' 'coral'\n",
            " 'darkgrey' 'darkkhaki' 'darksalmon' 'darkseagreen' 'gainsboro'\n",
            " 'ghostwhite' 'goldenrod' 'grey' 'indianred' 'khaki' 'lavender'\n",
            " 'lightgreen' 'lightgrey' 'lightpink' 'lightsalmon' 'linen' 'mistyrose'\n",
            " 'navajowhite' 'palegoldenrod' 'peachpuff' 'pink' 'rosybrown' 'sandybrown'\n",
            " 'silver' 'tan' 'thistle' 'wheat' 'whitesmoke']\n"
          ],
          "name": "stdout"
        }
      ]
    },
    {
      "cell_type": "code",
      "metadata": {
        "id": "37KjEka0bMas"
      },
      "source": [
        "colors_df = pd.DataFrame(final_colors_arr)"
      ],
      "execution_count": 21,
      "outputs": []
    },
    {
      "cell_type": "code",
      "metadata": {
        "colab": {
          "base_uri": "https://localhost:8080/",
          "height": 1000
        },
        "id": "s7nCsEBfbxff",
        "outputId": "ad8a95db-b273-4b9d-dafa-57cc17a4a70a"
      },
      "source": [
        "colors_df"
      ],
      "execution_count": 22,
      "outputs": [
        {
          "output_type": "execute_result",
          "data": {
            "text/html": [
              "<div>\n",
              "<style scoped>\n",
              "    .dataframe tbody tr th:only-of-type {\n",
              "        vertical-align: middle;\n",
              "    }\n",
              "\n",
              "    .dataframe tbody tr th {\n",
              "        vertical-align: top;\n",
              "    }\n",
              "\n",
              "    .dataframe thead th {\n",
              "        text-align: right;\n",
              "    }\n",
              "</style>\n",
              "<table border=\"1\" class=\"dataframe\">\n",
              "  <thead>\n",
              "    <tr style=\"text-align: right;\">\n",
              "      <th></th>\n",
              "      <th>0</th>\n",
              "    </tr>\n",
              "  </thead>\n",
              "  <tbody>\n",
              "    <tr>\n",
              "      <th>0</th>\n",
              "      <td>antiquewhite</td>\n",
              "    </tr>\n",
              "    <tr>\n",
              "      <th>1</th>\n",
              "      <td>beige</td>\n",
              "    </tr>\n",
              "    <tr>\n",
              "      <th>2</th>\n",
              "      <td>bisque</td>\n",
              "    </tr>\n",
              "    <tr>\n",
              "      <th>3</th>\n",
              "      <td>blanchedalmond</td>\n",
              "    </tr>\n",
              "    <tr>\n",
              "      <th>4</th>\n",
              "      <td>burlywood</td>\n",
              "    </tr>\n",
              "    <tr>\n",
              "      <th>5</th>\n",
              "      <td>coral</td>\n",
              "    </tr>\n",
              "    <tr>\n",
              "      <th>6</th>\n",
              "      <td>darkgrey</td>\n",
              "    </tr>\n",
              "    <tr>\n",
              "      <th>7</th>\n",
              "      <td>darkkhaki</td>\n",
              "    </tr>\n",
              "    <tr>\n",
              "      <th>8</th>\n",
              "      <td>darksalmon</td>\n",
              "    </tr>\n",
              "    <tr>\n",
              "      <th>9</th>\n",
              "      <td>darkseagreen</td>\n",
              "    </tr>\n",
              "    <tr>\n",
              "      <th>10</th>\n",
              "      <td>gainsboro</td>\n",
              "    </tr>\n",
              "    <tr>\n",
              "      <th>11</th>\n",
              "      <td>ghostwhite</td>\n",
              "    </tr>\n",
              "    <tr>\n",
              "      <th>12</th>\n",
              "      <td>goldenrod</td>\n",
              "    </tr>\n",
              "    <tr>\n",
              "      <th>13</th>\n",
              "      <td>grey</td>\n",
              "    </tr>\n",
              "    <tr>\n",
              "      <th>14</th>\n",
              "      <td>indianred</td>\n",
              "    </tr>\n",
              "    <tr>\n",
              "      <th>15</th>\n",
              "      <td>khaki</td>\n",
              "    </tr>\n",
              "    <tr>\n",
              "      <th>16</th>\n",
              "      <td>lavender</td>\n",
              "    </tr>\n",
              "    <tr>\n",
              "      <th>17</th>\n",
              "      <td>lightgreen</td>\n",
              "    </tr>\n",
              "    <tr>\n",
              "      <th>18</th>\n",
              "      <td>lightgrey</td>\n",
              "    </tr>\n",
              "    <tr>\n",
              "      <th>19</th>\n",
              "      <td>lightpink</td>\n",
              "    </tr>\n",
              "    <tr>\n",
              "      <th>20</th>\n",
              "      <td>lightsalmon</td>\n",
              "    </tr>\n",
              "    <tr>\n",
              "      <th>21</th>\n",
              "      <td>linen</td>\n",
              "    </tr>\n",
              "    <tr>\n",
              "      <th>22</th>\n",
              "      <td>mistyrose</td>\n",
              "    </tr>\n",
              "    <tr>\n",
              "      <th>23</th>\n",
              "      <td>navajowhite</td>\n",
              "    </tr>\n",
              "    <tr>\n",
              "      <th>24</th>\n",
              "      <td>palegoldenrod</td>\n",
              "    </tr>\n",
              "    <tr>\n",
              "      <th>25</th>\n",
              "      <td>peachpuff</td>\n",
              "    </tr>\n",
              "    <tr>\n",
              "      <th>26</th>\n",
              "      <td>pink</td>\n",
              "    </tr>\n",
              "    <tr>\n",
              "      <th>27</th>\n",
              "      <td>rosybrown</td>\n",
              "    </tr>\n",
              "    <tr>\n",
              "      <th>28</th>\n",
              "      <td>sandybrown</td>\n",
              "    </tr>\n",
              "    <tr>\n",
              "      <th>29</th>\n",
              "      <td>silver</td>\n",
              "    </tr>\n",
              "    <tr>\n",
              "      <th>30</th>\n",
              "      <td>tan</td>\n",
              "    </tr>\n",
              "    <tr>\n",
              "      <th>31</th>\n",
              "      <td>thistle</td>\n",
              "    </tr>\n",
              "    <tr>\n",
              "      <th>32</th>\n",
              "      <td>wheat</td>\n",
              "    </tr>\n",
              "    <tr>\n",
              "      <th>33</th>\n",
              "      <td>whitesmoke</td>\n",
              "    </tr>\n",
              "  </tbody>\n",
              "</table>\n",
              "</div>"
            ],
            "text/plain": [
              "                 0\n",
              "0     antiquewhite\n",
              "1            beige\n",
              "2           bisque\n",
              "3   blanchedalmond\n",
              "4        burlywood\n",
              "5            coral\n",
              "6         darkgrey\n",
              "7        darkkhaki\n",
              "8       darksalmon\n",
              "9     darkseagreen\n",
              "10       gainsboro\n",
              "11      ghostwhite\n",
              "12       goldenrod\n",
              "13            grey\n",
              "14       indianred\n",
              "15           khaki\n",
              "16        lavender\n",
              "17      lightgreen\n",
              "18       lightgrey\n",
              "19       lightpink\n",
              "20     lightsalmon\n",
              "21           linen\n",
              "22       mistyrose\n",
              "23     navajowhite\n",
              "24   palegoldenrod\n",
              "25       peachpuff\n",
              "26            pink\n",
              "27       rosybrown\n",
              "28      sandybrown\n",
              "29          silver\n",
              "30             tan\n",
              "31         thistle\n",
              "32           wheat\n",
              "33      whitesmoke"
            ]
          },
          "metadata": {
            "tags": []
          },
          "execution_count": 22
        }
      ]
    },
    {
      "cell_type": "code",
      "metadata": {
        "colab": {
          "base_uri": "https://localhost:8080/"
        },
        "id": "hxLQRwLHRIJD",
        "outputId": "c263ff0f-a1d0-42c1-a0d8-038306c31ee9"
      },
      "source": [
        "len(np.unique(unique_colors))"
      ],
      "execution_count": 48,
      "outputs": [
        {
          "output_type": "execute_result",
          "data": {
            "text/plain": [
              "199"
            ]
          },
          "metadata": {
            "tags": []
          },
          "execution_count": 48
        }
      ]
    },
    {
      "cell_type": "code",
      "metadata": {
        "colab": {
          "base_uri": "https://localhost:8080/"
        },
        "id": "voad8hS8BL-g",
        "outputId": "7ae0e5c0-d785-459e-ea80-4c9d1e0928d9"
      },
      "source": [
        "import numpy as np\n",
        "np.asarray(im).shape"
      ],
      "execution_count": 9,
      "outputs": [
        {
          "output_type": "execute_result",
          "data": {
            "text/plain": [
              "(1050, 960, 3)"
            ]
          },
          "metadata": {
            "tags": []
          },
          "execution_count": 9
        }
      ]
    },
    {
      "cell_type": "code",
      "metadata": {
        "id": "Zx7QUyPzBMuS"
      },
      "source": [
        "print im.size  # Get the width and hight of the image for iterating over\n",
        "print pix[x,y]  # Get the RGBA Value of the a pixel of an image\n",
        "pix[x,y] = value  # Set the RGBA Value of the image (tuple)\n",
        "im.save('alive_parrot.png') \n",
        "\n",
        "\n",
        "px = im.load() \n",
        "print (px[4, 4]) \n",
        "px[4, 4] = (0, 0, 0) \n",
        "print (px[4, 4]) \n",
        "cordinate = x, y = 150, 59\n",
        "  \n",
        "# using getpixel method \n",
        "print (im.getpixel(cordinate)); \n",
        "\n",
        "\n",
        "auxiliaryList = list(set(myList))"
      ],
      "execution_count": null,
      "outputs": []
    }
  ]
}